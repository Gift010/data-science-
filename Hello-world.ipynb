{
 "cells": [
  {
   "cell_type": "code",
   "execution_count": 17,
   "id": "377bb913-f806-4869-94b4-5176bea095ba",
   "metadata": {},
   "outputs": [
    {
     "ename": "SyntaxError",
     "evalue": "positional argument follows keyword argument (2387769418.py, line 20)",
     "output_type": "error",
     "traceback": [
      "\u001b[0;36m  Cell \u001b[0;32mIn[17], line 20\u001b[0;36m\u001b[0m\n\u001b[0;31m    )\u001b[0m\n\u001b[0m    ^\u001b[0m\n\u001b[0;31mSyntaxError\u001b[0m\u001b[0;31m:\u001b[0m positional argument follows keyword argument\n"
     ]
    }
   ],
   "source": [
    "import pandas as pd\n",
    "from sklearn.tree import DecisionTreeClassifier \n",
    "from sklearn import tree\n",
    "# import joblib\n",
    "# from sklearn.model_selection import train_test_split \n",
    "# from sklearn.metrics import accuracy_score\n",
    "music_data =pd.read_csv(\"music.csv\")\n",
    "X=music_data.drop(columns=[\"Song\"])\n",
    "y=music_data[\"Song\"]\n",
    "# # X_train,X_test,y_train,y_test=train_test_split(X,y,test_size=0.2)\n",
    "\n",
    "model=DecisionTreeClassifier()\n",
    "model.fit(X,y)\n",
    "\n",
    "tree.export_graphviz(model,out_file=\"music-recommender.dot\",feature_names[\"age\",\"gender\"],\n",
    "                    class_names=sorted(y.unique()),\n",
    "                     label=\"all\",\n",
    "                     rounded=True,\n",
    "                     filled=True\n",
    "                    )\n",
    "\n",
    "# model=joblib.load(\"music-recommender.joblib\")\n",
    "# prediction=model.predict([[21,1]])\n",
    "# prediction\n",
    "\n",
    "# score=accuracy_score(y_test,prediction)\n",
    "# score"
   ]
  },
  {
   "cell_type": "code",
   "execution_count": null,
   "id": "f2571c80-8c59-466e-bbf4-8a4a058032f5",
   "metadata": {},
   "outputs": [],
   "source": []
  }
 ],
 "metadata": {
  "kernelspec": {
   "display_name": "Python 3 (ipykernel)",
   "language": "python",
   "name": "python3"
  },
  "language_info": {
   "codemirror_mode": {
    "name": "ipython",
    "version": 3
   },
   "file_extension": ".py",
   "mimetype": "text/x-python",
   "name": "python",
   "nbconvert_exporter": "python",
   "pygments_lexer": "ipython3",
   "version": "3.12.3"
  }
 },
 "nbformat": 4,
 "nbformat_minor": 5
}
